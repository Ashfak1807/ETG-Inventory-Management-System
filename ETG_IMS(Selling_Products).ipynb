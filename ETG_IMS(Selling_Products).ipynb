{
  "nbformat": 4,
  "nbformat_minor": 0,
  "metadata": {
    "colab": {
      "name": "ETG-IMS(Selling Products).ipynb",
      "provenance": [],
      "authorship_tag": "ABX9TyOwpbnOUzAqS0wBUIsFc9tY",
      "include_colab_link": true
    },
    "kernelspec": {
      "name": "python3",
      "display_name": "Python 3"
    },
    "language_info": {
      "name": "python"
    }
  },
  "cells": [
    {
      "cell_type": "markdown",
      "metadata": {
        "id": "view-in-github",
        "colab_type": "text"
      },
      "source": [
        "<a href=\"https://colab.research.google.com/github/Ashfak1807/ETG-Inventory-Management-System/blob/main/ETG_IMS(Selling_Products).ipynb\" target=\"_parent\"><img src=\"https://colab.research.google.com/assets/colab-badge.svg\" alt=\"Open In Colab\"/></a>"
      ]
    },
    {
      "cell_type": "code",
      "metadata": {
        "id": "YlYXVk6rHLaW"
      },
      "source": [
        "products = {\n",
        "    101 : {\"name\":\"Iwatch\",              \"price\":16000,  \"quan\":50,  \"warranty\":\"12 months\",  \"brand\":\"Apple\"},\n",
        "    102 : {\"name\":\"Iphone6\",             \"price\":23000,  \"quan\":50,  \"warranty\":\"18 months\",  \"brand\":\"Apple\"},\n",
        "    103 : {\"name\":\"Iphone7\",             \"price\":28000,  \"quan\":50,  \"warranty\":\"14 months\",  \"brand\":\"Apple\"},\n",
        "    104 : {\"name\":\"Iphone8\",             \"price\":32000,  \"quan\":50,  \"warranty\":\"12 months\",  \"brand\":\"Apple\"},\n",
        "    105 : {\"name\":\"IphoneX\",             \"price\":46000,  \"quan\":50,  \"warranty\":\"12 months\",  \"brand\":\"Apple\"},\n",
        "    106 : {\"name\":\"Iphone12X\",           \"price\":44000,  \"quan\":50,  \"warranty\":\"12 months\",  \"brand\":\"Apple\"},\n",
        "    107 : {\"name\":\"Samsung S20\",         \"price\":36000,  \"quan\":50,  \"warranty\":\"12 months\",  \"brand\":\"Samsung\"},\n",
        "    108 : {\"name\":\"Nokia Lumina\",        \"price\":16000,  \"quan\":50,  \"warranty\":\"12 months\",  \"brand\":\"Nokia\"},\n",
        "    109 : {\"name\":\"Poco F3 GT\",          \"price\":30000,  \"quan\":50,  \"warranty\":\"12 months\",  \"brand\":\"Xiaomi\"},\n",
        "    110 : {\"name\":\"Redmi K40\",           \"price\":25000,  \"quan\":50,  \"warranty\":\"10 months\",  \"brand\":\"Xiaomi\"},\n",
        "    111 : {\"name\":\"Redmi K20\",           \"price\":22000,  \"quan\":50,  \"warranty\":\"12 months\",  \"brand\":\"Xiaomi\"},\n",
        "    112 : {\"name\":\"Honor 8x\",            \"price\":14000,  \"quan\":50,  \"warranty\":\"12 months\",  \"brand\":\"Huawei\"},\n",
        "    113 : {\"name\":\"Honor 9r\",            \"price\":19000,  \"quan\":50,  \"warranty\":\"12 months\",  \"brand\":\"Huawei\"},\n",
        "    114 : {\"name\":\"Mi 10T\",              \"price\":40000,  \"quan\":50,  \"warranty\":\"12 months\",  \"brand\":\"Xiaomi\"},\n",
        "    115 : {\"name\":\"Rog 5\",               \"price\":48000,  \"quan\":50,  \"warranty\":\"24 months\",  \"brand\":\"Asus\"},\n",
        "    116 : {\"name\":\"Black Shark\",         \"price\":36000,  \"quan\":50,  \"warranty\":\"17 months\",  \"brand\":\"Xiaomi\"},\n",
        "    117 : {\"name\":\"Oppo V5\",             \"price\":26000,  \"quan\":50,  \"warranty\":\"14 months\",  \"brand\":\"BBK Electronics\"},\n",
        "    118 : {\"name\":\"Vivo 5\",              \"price\":16900,  \"quan\":50,  \"warranty\":\"16 months\",  \"brand\":\"BBK Electronics\"},\n",
        "    119 : {\"name\":\"Oneplus 8\",           \"price\":36000,  \"quan\":50,  \"warranty\":\"12 months\",  \"brand\":\"BBK Electronics\"},\n",
        "    120 : {\"name\":\"Oneplus Nord\",        \"price\":26540,  \"quan\":50,  \"warranty\":\"11 months\",  \"brand\":\"BBK Electronics\"}\n",
        "       \n",
        "\n",
        "}"
      ],
      "execution_count": 2,
      "outputs": []
    },
    {
      "cell_type": "code",
      "metadata": {
        "id": "z4zluBTMFQ3-"
      },
      "source": [
        "import json"
      ],
      "execution_count": 4,
      "outputs": []
    },
    {
      "cell_type": "code",
      "metadata": {
        "id": "vxh6YrK_HfUV"
      },
      "source": [
        "js = json.dumps(products)"
      ],
      "execution_count": 5,
      "outputs": []
    },
    {
      "cell_type": "code",
      "metadata": {
        "id": "MSeDB8sjIsP9"
      },
      "source": [
        "fd = open(\"products.json\",\"w\")\n",
        "fd.write(js)\n",
        "fd.close()"
      ],
      "execution_count": 7,
      "outputs": []
    },
    {
      "cell_type": "code",
      "metadata": {
        "id": "FASygg5jHlT0"
      },
      "source": [
        "fd = open(\"products.json\",'r')\n",
        "r = fd.read()\n",
        "fd.close()\n",
        "\n",
        "products = json.loads(r)"
      ],
      "execution_count": 8,
      "outputs": []
    },
    {
      "cell_type": "code",
      "metadata": {
        "id": "oqzduLcV2OR1"
      },
      "source": [
        "sales = {1 : {'prod':ui_prod, 'quan':ui_quan, 'amount':products[ui_prod]['price']*ui_quan}}\n",
        "sal = json.dumps(sales)\n",
        "\n",
        "fd = open(\"sales.json\",'w')\n",
        "fd.write(sal)\n",
        "fd.close()"
      ],
      "execution_count": 11,
      "outputs": []
    },
    {
      "cell_type": "code",
      "metadata": {
        "colab": {
          "base_uri": "https://localhost:8080/"
        },
        "id": "eLh-n8aXJ2Fs",
        "outputId": "a9deef6d-8173-4a54-fd3d-c286196a5442"
      },
      "source": [
        "print(\"Welcome to shop\")\n",
        "\n",
        "\n",
        "ui_prod = input(\"Enter the product Id: \")\n",
        "ui_quan = int(input(\"Enter the quantity of the Product: \"))\n",
        "\n",
        "for i in products.keys():\n",
        "    while ui_prod == i:\n",
        "        if ui_quan <= products[i]['quan']:\n",
        "            print(\"****************************************\")\n",
        "            print(\"  Product            :\",products[ui_prod]['name'])\n",
        "            print(\"  Price              :\",products[ui_prod]['price'])\n",
        "            print(\"  Warranty           :\",products[ui_prod]['warranty'])\n",
        "            print(\"  Manufacturing Brand:\",products[ui_prod]['brand'])\n",
        "            print(\"****************************************\")\n",
        "            print(\"----------BILLING DETAILS:---------- \")\n",
        "            print(\"Total Amount: \",products[ui_prod]['price']*ui_quan) \n",
        "            print(\"Enjoy Your Day\")\n",
        "            print(\"Thank You. Waiting for your next visit \")\n",
        "            print(\"**********************************\")\n",
        "            products[ui_prod][\"quan\"] = products[ui_prod][\"quan\"] - ui_quan\n",
        "        else:\n",
        "            print(\"Sorry. Stock of product you enterd is: \",products[ui_prod]['quan'],\"\\nPlease accept our apologies for this inconvenience\")\n",
        "        break\n",
        "if ui_prod not in products.keys():\n",
        "   print(\"Sorry. No product found for ID: \",ui_prod,\"\\Please enter valid product ID\")\n",
        "    \n",
        "    \n",
        "js = json.dumps(products)\n",
        "\n",
        "fd = open(\"products.json\",'w')\n",
        "fd.write(js)\n",
        "fd.close()\n",
        "\n",
        "## The sold items information is stored on sales.json\n",
        "fd = open(\"sales.json\",'r')\n",
        "trans = fd.read()\n",
        "fd.close()\n",
        "\n",
        "sales = json.loads(trans)\n",
        "num = len(sales)+1\n",
        "\n",
        "sales[num] = {'prod':ui_prod, 'quan' : ui_quan, 'amount': products[ui_prod]['price'] * ui_quan}\n",
        "sale = json.dumps(sales)\n",
        "\n",
        "fd = open(\"sales.json\",'w')\n",
        "fd.write(sale)\n",
        "fd.close()"
      ],
      "execution_count": 12,
      "outputs": [
        {
          "output_type": "stream",
          "name": "stdout",
          "text": [
            "Welcome to shop\n",
            "Enter the product Id: 112\n",
            "Enter the quantity of the Product: 2\n",
            "****************************************\n",
            "  Product            : Honor 8x\n",
            "  Price              : 14000\n",
            "  Warranty           : 12 months\n",
            "  Manufacturing Brand: Huawei\n",
            "****************************************\n",
            "----------BILLING DETAILS:---------- \n",
            "Total Amount:  28000\n",
            "Enjoy Your Day\n",
            "Thank You. Waiting for your next visit \n",
            "**********************************\n"
          ]
        }
      ]
    },
    {
      "cell_type": "markdown",
      "metadata": {
        "id": "p6CUTAERKMC7"
      },
      "source": [
        "# Update Inventory after products sold"
      ]
    },
    {
      "cell_type": "code",
      "metadata": {
        "id": "adIQvnKgKQJT"
      },
      "source": [
        "sales = {1 : {'prod':ui_prod, 'quan':ui_quan, 'amount':products[ui_prod]['price']*ui_quan}}\n",
        "sal = json.dumps(sales)\n",
        "\n",
        "fd = open(\"sales.json\",'w')\n",
        "fd.write(sal)\n",
        "fd.close()"
      ],
      "execution_count": 13,
      "outputs": []
    },
    {
      "cell_type": "code",
      "metadata": {
        "colab": {
          "base_uri": "https://localhost:8080/"
        },
        "id": "atfo7R5rKUVL",
        "outputId": "732fdc7e-efda-420b-88fa-e67108b66985"
      },
      "source": [
        "sales"
      ],
      "execution_count": 14,
      "outputs": [
        {
          "output_type": "execute_result",
          "data": {
            "text/plain": [
              "{1: {'amount': 28000, 'prod': '112', 'quan': 2}}"
            ]
          },
          "metadata": {},
          "execution_count": 14
        }
      ]
    },
    {
      "cell_type": "code",
      "metadata": {
        "colab": {
          "base_uri": "https://localhost:8080/"
        },
        "id": "uHyAu3c9KVgb",
        "outputId": "f9f739b9-d0de-4a6c-8174-8db777a507d2"
      },
      "source": [
        "products"
      ],
      "execution_count": 16,
      "outputs": [
        {
          "output_type": "execute_result",
          "data": {
            "text/plain": [
              "{'101': {'brand': 'Apple',\n",
              "  'name': 'Iwatch',\n",
              "  'price': 16000,\n",
              "  'quan': 50,\n",
              "  'warranty': '12 months'},\n",
              " '102': {'brand': 'Apple',\n",
              "  'name': 'Iphone6',\n",
              "  'price': 23000,\n",
              "  'quan': 50,\n",
              "  'warranty': '18 months'},\n",
              " '103': {'brand': 'Apple',\n",
              "  'name': 'Iphone7',\n",
              "  'price': 28000,\n",
              "  'quan': 50,\n",
              "  'warranty': '14 months'},\n",
              " '104': {'brand': 'Apple',\n",
              "  'name': 'Iphone8',\n",
              "  'price': 32000,\n",
              "  'quan': 50,\n",
              "  'warranty': '12 months'},\n",
              " '105': {'brand': 'Apple',\n",
              "  'name': 'IphoneX',\n",
              "  'price': 46000,\n",
              "  'quan': 50,\n",
              "  'warranty': '12 months'},\n",
              " '106': {'brand': 'Apple',\n",
              "  'name': 'Iphone12X',\n",
              "  'price': 44000,\n",
              "  'quan': 50,\n",
              "  'warranty': '12 months'},\n",
              " '107': {'brand': 'Samsung',\n",
              "  'name': 'Samsung S20',\n",
              "  'price': 36000,\n",
              "  'quan': 50,\n",
              "  'warranty': '12 months'},\n",
              " '108': {'brand': 'Nokia',\n",
              "  'name': 'Nokia Lumina',\n",
              "  'price': 16000,\n",
              "  'quan': 50,\n",
              "  'warranty': '12 months'},\n",
              " '109': {'brand': 'Xiaomi',\n",
              "  'name': 'Poco F3 GT',\n",
              "  'price': 30000,\n",
              "  'quan': 49,\n",
              "  'warranty': '12 months'},\n",
              " '110': {'brand': 'Xiaomi',\n",
              "  'name': 'Redmi K40',\n",
              "  'price': 25000,\n",
              "  'quan': 50,\n",
              "  'warranty': '10 months'},\n",
              " '111': {'brand': 'Xiaomi',\n",
              "  'name': 'Redmi K20',\n",
              "  'price': 22000,\n",
              "  'quan': 50,\n",
              "  'warranty': '12 months'},\n",
              " '112': {'brand': 'Huawei',\n",
              "  'name': 'Honor 8x',\n",
              "  'price': 14000,\n",
              "  'quan': 48,\n",
              "  'warranty': '12 months'},\n",
              " '113': {'brand': 'Huawei',\n",
              "  'name': 'Honor 9r',\n",
              "  'price': 19000,\n",
              "  'quan': 50,\n",
              "  'warranty': '12 months'},\n",
              " '114': {'brand': 'Xiaomi',\n",
              "  'name': 'Mi 10T',\n",
              "  'price': 40000,\n",
              "  'quan': 50,\n",
              "  'warranty': '12 months'},\n",
              " '115': {'brand': 'Asus',\n",
              "  'name': 'Rog 5',\n",
              "  'price': 48000,\n",
              "  'quan': 50,\n",
              "  'warranty': '24 months'},\n",
              " '116': {'brand': 'Xiaomi',\n",
              "  'name': 'Black Shark',\n",
              "  'price': 36000,\n",
              "  'quan': 50,\n",
              "  'warranty': '17 months'},\n",
              " '117': {'brand': 'BBK Electronics',\n",
              "  'name': 'Oppo V5',\n",
              "  'price': 26000,\n",
              "  'quan': 50,\n",
              "  'warranty': '14 months'},\n",
              " '118': {'brand': 'BBK Electronics',\n",
              "  'name': 'Vivo 5',\n",
              "  'price': 16900,\n",
              "  'quan': 50,\n",
              "  'warranty': '16 months'},\n",
              " '119': {'brand': 'BBK Electronics',\n",
              "  'name': 'Oneplus 8',\n",
              "  'price': 36000,\n",
              "  'quan': 50,\n",
              "  'warranty': '12 months'},\n",
              " '120': {'brand': 'BBK Electronics',\n",
              "  'name': 'Oneplus Nord',\n",
              "  'price': 26540,\n",
              "  'quan': 50,\n",
              "  'warranty': '11 months'}}"
            ]
          },
          "metadata": {},
          "execution_count": 16
        }
      ]
    }
  ]
}