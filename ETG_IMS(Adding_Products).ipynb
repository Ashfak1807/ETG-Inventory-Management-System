{
  "nbformat": 4,
  "nbformat_minor": 0,
  "metadata": {
    "colab": {
      "name": "ETG-IMS(Adding Products).ipynb",
      "provenance": [],
      "authorship_tag": "ABX9TyOiW+uznv7toQWrTXyPdvNC",
      "include_colab_link": true
    },
    "kernelspec": {
      "name": "python3",
      "display_name": "Python 3"
    },
    "language_info": {
      "name": "python"
    }
  },
  "cells": [
    {
      "cell_type": "markdown",
      "metadata": {
        "id": "view-in-github",
        "colab_type": "text"
      },
      "source": [
        "<a href=\"https://colab.research.google.com/github/Ashfak1807/ETG-Inventory-Management-System/blob/main/ETG_IMS(Adding_Products).ipynb\" target=\"_parent\"><img src=\"https://colab.research.google.com/assets/colab-badge.svg\" alt=\"Open In Colab\"/></a>"
      ]
    },
    {
      "cell_type": "code",
      "metadata": {
        "id": "hjsUpWLKAmxA"
      },
      "source": [
        "products = {\n",
        "    101 : {\"name\":\"Iwatch\",              \"price\":16000,  \"quan\":50,  \"warranty\":\"12 months\",  \"brand\":\"Apple\"},\n",
        "    102 : {\"name\":\"Iphone6\",             \"price\":23000,  \"quan\":50,  \"warranty\":\"18 months\",  \"brand\":\"Apple\"},\n",
        "    103 : {\"name\":\"Iphone7\",             \"price\":28000,  \"quan\":50,  \"warranty\":\"14 months\",  \"brand\":\"Apple\"},\n",
        "    104 : {\"name\":\"Iphone8\",             \"price\":32000,  \"quan\":50,  \"warranty\":\"12 months\",  \"brand\":\"Apple\"},\n",
        "    105 : {\"name\":\"IphoneX\",             \"price\":46000,  \"quan\":50,  \"warranty\":\"12 months\",  \"brand\":\"Apple\"},\n",
        "    106 : {\"name\":\"Iphone12X\",           \"price\":44000,  \"quan\":50,  \"warranty\":\"12 months\",  \"brand\":\"Apple\"},\n",
        "    107 : {\"name\":\"Samsung S20\",         \"price\":36000,  \"quan\":50,  \"warranty\":\"12 months\",  \"brand\":\"Samsung\"},\n",
        "    108 : {\"name\":\"Nokia Lumina\",        \"price\":16000,  \"quan\":50,  \"warranty\":\"12 months\",  \"brand\":\"Nokia\"},\n",
        "    109 : {\"name\":\"Poco F3 GT\",          \"price\":30000,  \"quan\":50,  \"warranty\":\"12 months\",  \"brand\":\"Xiaomi\"},\n",
        "    110 : {\"name\":\"Redmi K40\",           \"price\":25000,  \"quan\":50,  \"warranty\":\"10 months\",  \"brand\":\"Xiaomi\"},\n",
        "    111 : {\"name\":\"Redmi K20\",           \"price\":22000,  \"quan\":50,  \"warranty\":\"12 months\",  \"brand\":\"Xiaomi\"},\n",
        "    112 : {\"name\":\"Honor 8x\",            \"price\":14000,  \"quan\":50,  \"warranty\":\"12 months\",  \"brand\":\"Huawei\"},\n",
        "    113 : {\"name\":\"Honor 9r\",            \"price\":19000,  \"quan\":50,  \"warranty\":\"12 months\",  \"brand\":\"Huawei\"},\n",
        "    114 : {\"name\":\"Mi 10T\",              \"price\":40000,  \"quan\":50,  \"warranty\":\"12 months\",  \"brand\":\"Xiaomi\"},\n",
        "    115 : {\"name\":\"Rog 5\",               \"price\":48000,  \"quan\":50,  \"warranty\":\"24 months\",  \"brand\":\"Asus\"},\n",
        "    116 : {\"name\":\"Black Shark\",         \"price\":36000,  \"quan\":50,  \"warranty\":\"17 months\",  \"brand\":\"Xiaomi\"},\n",
        "    117 : {\"name\":\"Oppo V5\",             \"price\":26000,  \"quan\":50,  \"warranty\":\"14 months\",  \"brand\":\"BBK Electronics\"},\n",
        "    118 : {\"name\":\"Vivo 5\",              \"price\":16900,  \"quan\":50,  \"warranty\":\"16 months\",  \"brand\":\"BBK Electronics\"},\n",
        "    119 : {\"name\":\"Oneplus 8\",           \"price\":36000,  \"quan\":50,  \"warranty\":\"12 months\",  \"brand\":\"BBK Electronics\"},\n",
        "    120 : {\"name\":\"Oneplus Nord\",        \"price\":26540,  \"quan\":50,  \"warranty\":\"11 months\",  \"brand\":\"BBK Electronics\"}\n",
        "       \n",
        "\n",
        "}"
      ],
      "execution_count": 3,
      "outputs": []
    },
    {
      "cell_type": "code",
      "metadata": {
        "id": "z4zluBTMFQ3-"
      },
      "source": [
        "import json"
      ],
      "execution_count": 4,
      "outputs": []
    },
    {
      "cell_type": "code",
      "metadata": {
        "id": "SXND0eCrFXz2"
      },
      "source": [
        "js = json.dumps(products)\n",
        "fd = open(\"products.json\",\"w\")\n",
        "fd.write(js)\n",
        "fd.close()"
      ],
      "execution_count": 5,
      "outputs": []
    },
    {
      "cell_type": "markdown",
      "metadata": {
        "id": "uW8lw7DdFhS9"
      },
      "source": [
        "## Read Data From JSON"
      ]
    },
    {
      "cell_type": "code",
      "metadata": {
        "id": "MUUr1iKuFi0O"
      },
      "source": [
        "fd = open(\"products.json\",'r')\n",
        "\n",
        "r = fd.read()\n",
        "\n",
        "fd.close()\n",
        "\n",
        "products = json.loads(r)"
      ],
      "execution_count": 6,
      "outputs": []
    },
    {
      "cell_type": "code",
      "metadata": {
        "colab": {
          "base_uri": "https://localhost:8080/"
        },
        "id": "D7do_3ocFs41",
        "outputId": "af0f66c4-10f5-4698-84fd-1e0290256cc9"
      },
      "source": [
        "products"
      ],
      "execution_count": 7,
      "outputs": [
        {
          "output_type": "execute_result",
          "data": {
            "text/plain": [
              "{'101': {'brand': 'Apple',\n",
              "  'name': 'Iwatch',\n",
              "  'price': 16000,\n",
              "  'quan': 50,\n",
              "  'warranty': '12 months'},\n",
              " '102': {'brand': 'Apple',\n",
              "  'name': 'Iphone6',\n",
              "  'price': 23000,\n",
              "  'quan': 50,\n",
              "  'warranty': '18 months'},\n",
              " '103': {'brand': 'Apple',\n",
              "  'name': 'Iphone7',\n",
              "  'price': 28000,\n",
              "  'quan': 50,\n",
              "  'warranty': '14 months'},\n",
              " '104': {'brand': 'Apple',\n",
              "  'name': 'Iphone8',\n",
              "  'price': 32000,\n",
              "  'quan': 50,\n",
              "  'warranty': '12 months'},\n",
              " '105': {'brand': 'Apple',\n",
              "  'name': 'IphoneX',\n",
              "  'price': 46000,\n",
              "  'quan': 50,\n",
              "  'warranty': '12 months'},\n",
              " '106': {'brand': 'Apple',\n",
              "  'name': 'Iphone12X',\n",
              "  'price': 44000,\n",
              "  'quan': 50,\n",
              "  'warranty': '12 months'},\n",
              " '107': {'brand': 'Samsung',\n",
              "  'name': 'Samsung S20',\n",
              "  'price': 36000,\n",
              "  'quan': 50,\n",
              "  'warranty': '12 months'},\n",
              " '108': {'brand': 'Nokia',\n",
              "  'name': 'Nokia Lumina',\n",
              "  'price': 16000,\n",
              "  'quan': 50,\n",
              "  'warranty': '12 months'},\n",
              " '109': {'brand': 'Xiaomi',\n",
              "  'name': 'Poco F3 GT',\n",
              "  'price': 30000,\n",
              "  'quan': 50,\n",
              "  'warranty': '12 months'},\n",
              " '110': {'brand': 'Xiaomi',\n",
              "  'name': 'Redmi K40',\n",
              "  'price': 25000,\n",
              "  'quan': 50,\n",
              "  'warranty': '10 months'},\n",
              " '111': {'brand': 'Xiaomi',\n",
              "  'name': 'Redmi K20',\n",
              "  'price': 22000,\n",
              "  'quan': 50,\n",
              "  'warranty': '12 months'},\n",
              " '112': {'brand': 'Huawei',\n",
              "  'name': 'Honor 8x',\n",
              "  'price': 14000,\n",
              "  'quan': 50,\n",
              "  'warranty': '12 months'},\n",
              " '113': {'brand': 'Huawei',\n",
              "  'name': 'Honor 9r',\n",
              "  'price': 19000,\n",
              "  'quan': 50,\n",
              "  'warranty': '12 months'},\n",
              " '114': {'brand': 'Xiaomi',\n",
              "  'name': 'Mi 10T',\n",
              "  'price': 40000,\n",
              "  'quan': 50,\n",
              "  'warranty': '12 months'},\n",
              " '115': {'brand': 'Asus',\n",
              "  'name': 'Rog 5',\n",
              "  'price': 48000,\n",
              "  'quan': 50,\n",
              "  'warranty': '24 months'},\n",
              " '116': {'brand': 'Xiaomi',\n",
              "  'name': 'Black Shark',\n",
              "  'price': 36000,\n",
              "  'quan': 50,\n",
              "  'warranty': '17 months'},\n",
              " '117': {'brand': 'BBK Electronics',\n",
              "  'name': 'Oppo V5',\n",
              "  'price': 26000,\n",
              "  'quan': 50,\n",
              "  'warranty': '14 months'},\n",
              " '118': {'brand': 'BBK Electronics',\n",
              "  'name': 'Vivo 5',\n",
              "  'price': 16900,\n",
              "  'quan': 50,\n",
              "  'warranty': '16 months'},\n",
              " '119': {'brand': 'BBK Electronics',\n",
              "  'name': 'Oneplus 8',\n",
              "  'price': 36000,\n",
              "  'quan': 50,\n",
              "  'warranty': '12 months'},\n",
              " '120': {'brand': 'BBK Electronics',\n",
              "  'name': 'Oneplus Nord',\n",
              "  'price': 26540,\n",
              "  'quan': 50,\n",
              "  'warranty': '11 months'}}"
            ]
          },
          "metadata": {},
          "execution_count": 7
        }
      ]
    },
    {
      "cell_type": "markdown",
      "metadata": {
        "id": "4s_hqr4xFxZu"
      },
      "source": [
        "## Adding new item to the inventory"
      ]
    },
    {
      "cell_type": "code",
      "metadata": {
        "colab": {
          "base_uri": "https://localhost:8080/"
        },
        "id": "46g_DyCAFzIO",
        "outputId": "aa967799-76c2-4237-b17c-4607f257a149"
      },
      "source": [
        "prod_id = input(\"Enter the Product ID: \")\n",
        "name = input(\"Enter the Name of the Product: \")\n",
        "price = int(input(\"Enter the price per Item: \"))\n",
        "quan = int(input(\"Enter The Quantity of the Product you want to add: \"))\n",
        "expiry = input(\"Enter the warranty months of product: \")\n",
        "brand = input(\"Enter the Brand of the product: \")\n",
        "\n",
        "products[prod_id] = {\"name\":name,\"price\":price,\"quan\":quan,\"expiry\":expiry,\"brand\":brand}\n",
        "\n",
        "js = json.dumps(products)\n",
        "\n",
        "fd = open(\"products.json\",\"w\")\n",
        "fd.write(js)\n",
        "fd.close()"
      ],
      "execution_count": 10,
      "outputs": [
        {
          "name": "stdout",
          "output_type": "stream",
          "text": [
            "Enter the Product ID: 122\n",
            "Enter the Name of the Product: Vivo x10\n",
            "Enter the price per Item: 28450\n",
            "Enter The Quantity of the Product you want to add: 46\n",
            "Enter the warranty months of product: 16\n",
            "Enter the Brand of the product: Vivo\n"
          ]
        }
      ]
    },
    {
      "cell_type": "code",
      "metadata": {
        "colab": {
          "base_uri": "https://localhost:8080/"
        },
        "id": "_UxR-NrNGFQ9",
        "outputId": "eb5b2fa5-c5f6-45b9-bc54-7c6c89f2d2db"
      },
      "source": [
        "products"
      ],
      "execution_count": 11,
      "outputs": [
        {
          "output_type": "execute_result",
          "data": {
            "text/plain": [
              "{'101': {'brand': 'Apple',\n",
              "  'name': 'Iwatch',\n",
              "  'price': 16000,\n",
              "  'quan': 50,\n",
              "  'warranty': '12 months'},\n",
              " '102': {'brand': 'Apple',\n",
              "  'name': 'Iphone6',\n",
              "  'price': 23000,\n",
              "  'quan': 50,\n",
              "  'warranty': '18 months'},\n",
              " '103': {'brand': 'Apple',\n",
              "  'name': 'Iphone7',\n",
              "  'price': 28000,\n",
              "  'quan': 50,\n",
              "  'warranty': '14 months'},\n",
              " '104': {'brand': 'Apple',\n",
              "  'name': 'Iphone8',\n",
              "  'price': 32000,\n",
              "  'quan': 50,\n",
              "  'warranty': '12 months'},\n",
              " '105': {'brand': 'Apple',\n",
              "  'name': 'IphoneX',\n",
              "  'price': 46000,\n",
              "  'quan': 50,\n",
              "  'warranty': '12 months'},\n",
              " '106': {'brand': 'Apple',\n",
              "  'name': 'Iphone12X',\n",
              "  'price': 44000,\n",
              "  'quan': 50,\n",
              "  'warranty': '12 months'},\n",
              " '107': {'brand': 'Samsung',\n",
              "  'name': 'Samsung S20',\n",
              "  'price': 36000,\n",
              "  'quan': 50,\n",
              "  'warranty': '12 months'},\n",
              " '108': {'brand': 'Nokia',\n",
              "  'name': 'Nokia Lumina',\n",
              "  'price': 16000,\n",
              "  'quan': 50,\n",
              "  'warranty': '12 months'},\n",
              " '109': {'brand': 'Xiaomi',\n",
              "  'name': 'Poco F3 GT',\n",
              "  'price': 30000,\n",
              "  'quan': 50,\n",
              "  'warranty': '12 months'},\n",
              " '110': {'brand': 'Xiaomi',\n",
              "  'name': 'Redmi K40',\n",
              "  'price': 25000,\n",
              "  'quan': 50,\n",
              "  'warranty': '10 months'},\n",
              " '111': {'brand': 'Xiaomi',\n",
              "  'name': 'Redmi K20',\n",
              "  'price': 22000,\n",
              "  'quan': 50,\n",
              "  'warranty': '12 months'},\n",
              " '112': {'brand': 'Huawei',\n",
              "  'name': 'Honor 8x',\n",
              "  'price': 14000,\n",
              "  'quan': 50,\n",
              "  'warranty': '12 months'},\n",
              " '113': {'brand': 'Huawei',\n",
              "  'name': 'Honor 9r',\n",
              "  'price': 19000,\n",
              "  'quan': 50,\n",
              "  'warranty': '12 months'},\n",
              " '114': {'brand': 'Xiaomi',\n",
              "  'name': 'Mi 10T',\n",
              "  'price': 40000,\n",
              "  'quan': 50,\n",
              "  'warranty': '12 months'},\n",
              " '115': {'brand': 'Asus',\n",
              "  'name': 'Rog 5',\n",
              "  'price': 48000,\n",
              "  'quan': 50,\n",
              "  'warranty': '24 months'},\n",
              " '116': {'brand': 'Xiaomi',\n",
              "  'name': 'Black Shark',\n",
              "  'price': 36000,\n",
              "  'quan': 50,\n",
              "  'warranty': '17 months'},\n",
              " '117': {'brand': 'BBK Electronics',\n",
              "  'name': 'Oppo V5',\n",
              "  'price': 26000,\n",
              "  'quan': 50,\n",
              "  'warranty': '14 months'},\n",
              " '118': {'brand': 'BBK Electronics',\n",
              "  'name': 'Vivo 5',\n",
              "  'price': 16900,\n",
              "  'quan': 50,\n",
              "  'warranty': '16 months'},\n",
              " '119': {'brand': 'BBK Electronics',\n",
              "  'name': 'Oneplus 8',\n",
              "  'price': 36000,\n",
              "  'quan': 50,\n",
              "  'warranty': '12 months'},\n",
              " '120': {'brand': 'BBK Electronics',\n",
              "  'name': 'Oneplus Nord',\n",
              "  'price': 26540,\n",
              "  'quan': 50,\n",
              "  'warranty': '11 months'},\n",
              " '121': {'brand': 'Motorola',\n",
              "  'expiry': '12',\n",
              "  'name': 'Moto g5',\n",
              "  'price': 24500,\n",
              "  'quan': 50},\n",
              " '122': {'brand': 'Vivo',\n",
              "  'expiry': '16',\n",
              "  'name': 'Vivo x10',\n",
              "  'price': 28450,\n",
              "  'quan': 46}}"
            ]
          },
          "metadata": {},
          "execution_count": 11
        }
      ]
    }
  ]
}